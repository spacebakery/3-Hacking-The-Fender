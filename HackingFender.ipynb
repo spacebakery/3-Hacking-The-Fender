{
 "cells": [
  {
   "cell_type": "markdown",
   "id": "5bbc2071f806494a",
   "metadata": {
    "collapsed": false
   },
   "source": [
    "LEARN PYTHON 3\n",
    "# Hacking The Fender"
   ]
  },
  {
   "cell_type": "markdown",
   "id": "9b6a6f84c48af424",
   "metadata": {
    "collapsed": false
   },
   "source": [
    "The Fender, a notorious computer hacker and general villain of the people, has compromised several top-secret passwords including your own. Your mission, should you choose to accept it, is threefold. You must acquire access to The Fender‘s systems, you must update his \"passwords.txt\" file to scramble the secret data. The last thing you need to do is add the signature of Slash Null, a different hacker whose nefarious deeds could be very conveniently halted by The Fender if they viewed Slash Null as a threat.\n",
    "\n",
    "Use your knowledge of working with Python files to retrieve, manipulate, obscure, and create data in your quest for justice. Work with CSV files and other text files in this exploration of the strength of Python file programming.\n",
    "\n",
    "If you get stuck during this project, check out the project walkthrough video which can be found in the help menu.\n",
    "\n",
    "\n"
   ]
  },
  {
   "cell_type": "markdown",
   "id": "ac52119ea1de7e37",
   "metadata": {
    "collapsed": false
   },
   "source": [
    "**Tasks**\n",
    "\n",
    "### Reading In The Passwords\n",
    "**1.**\n",
    "Are you there? We’ve opened up a communications link to The Fender‘s secret computer. We need you to write a program that will read in the compromised usernames and passwords that are stored in a file called \"passwords.csv\".\n",
    "\n",
    "First import the CSV module, since we’ll be needing it to parse the data."
   ]
  },
  {
   "cell_type": "code",
   "execution_count": 9,
   "id": "4a8aa109f2279993",
   "metadata": {
    "ExecuteTime": {
     "end_time": "2023-10-01T22:50:41.126448Z",
     "start_time": "2023-10-01T22:50:41.067790Z"
    },
    "collapsed": false
   },
   "outputs": [],
   "source": [
    "import csv"
   ]
  },
  {
   "cell_type": "markdown",
   "id": "bf84dcacee1c46a2",
   "metadata": {
    "collapsed": false
   },
   "source": [
    "**2.**\n",
    "We need to create a list of users whose passwords have been compromised, create a new list and save it to the variable compromised_users."
   ]
  },
  {
   "cell_type": "code",
   "execution_count": 10,
   "id": "eba49544cd7a1ad8",
   "metadata": {
    "ExecuteTime": {
     "end_time": "2023-10-01T22:50:41.127016Z",
     "start_time": "2023-10-01T22:50:41.072736Z"
    },
    "collapsed": false
   },
   "outputs": [],
   "source": [
    "compromised_users = []"
   ]
  },
  {
   "cell_type": "markdown",
   "id": "75b70235da22bd68",
   "metadata": {
    "collapsed": false
   },
   "source": [
    "**3.**\n",
    "Next we’ll need you to open up the file itself. Store it in a file object called password_file."
   ]
  },
  {
   "cell_type": "markdown",
   "id": "97c98fccc2739308",
   "metadata": {
    "collapsed": false
   },
   "source": [
    "**4.**\n",
    "Pass the password_file object holder to our CSV reader for parsing. Save the parsed csv.DictReader object as password_csv."
   ]
  },
  {
   "cell_type": "markdown",
   "id": "43e786cee839f6ac",
   "metadata": {
    "collapsed": false
   },
   "source": [
    "**5.**\n",
    "Now we’ll want to iterate through each of the lines in the CSV.\n",
    "\n",
    "Create a for loop and save each row of the CSV into the temporary variable password_row."
   ]
  },
  {
   "cell_type": "markdown",
   "id": "5e0fbb940caf791",
   "metadata": {
    "collapsed": false
   },
   "source": [
    "**6.**\n",
    "Inside your for loop, print out password_row['Username']. This is the username of the person whose password was compromised.\n",
    "\n",
    "Run your code, do you see a list of usernames?"
   ]
  },
  {
   "cell_type": "code",
   "execution_count": 11,
   "id": "5da2ce8c46ffec37",
   "metadata": {
    "ExecuteTime": {
     "end_time": "2023-10-01T22:50:41.171536Z",
     "start_time": "2023-10-01T22:50:41.081244Z"
    },
    "collapsed": false
   },
   "outputs": [
    {
     "name": "stdout",
     "output_type": "stream",
     "text": [
      "jean49\n",
      "haydenashley\n",
      "michaelastephens\n",
      "denisephillips\n",
      "andrew24\n",
      "kaylaabbott\n",
      "tmartinez\n",
      "mholden\n",
      "randygilbert\n",
      "watsonlouis\n",
      "mdavis\n",
      "patrickprice\n",
      "kgriffith\n",
      "hannasarah\n",
      "xaviermartin\n",
      "hrodriguez\n",
      "erodriguez\n",
      "danielleclark\n",
      "timothy26\n",
      "elizabeth19\n",
      "}\n"
     ]
    }
   ],
   "source": [
    "with open('passwords.csv') as password_file:\n",
    "    password_csv = csv.DictReader(password_file)\n",
    "    for pass_row in password_csv:\n",
    "        print(pass_row['Username'])\n",
    "    "
   ]
  },
  {
   "cell_type": "markdown",
   "id": "d17824013dfb3b4a",
   "metadata": {
    "collapsed": false
   },
   "source": [
    "**7.**\n",
    "Remove the print statement. We want to add each username to the list of compromised_users. Use the list’s .append() method to add the username to compromised_users instead of printing them."
   ]
  },
  {
   "cell_type": "code",
   "execution_count": 12,
   "id": "72cdec147eb3799d",
   "metadata": {
    "ExecuteTime": {
     "end_time": "2023-10-01T22:50:41.172877Z",
     "start_time": "2023-10-01T22:50:41.086972Z"
    },
    "collapsed": false
   },
   "outputs": [],
   "source": [
    "with open('passwords.csv') as password_file:\n",
    "    password_csv = csv.DictReader(password_file)\n",
    "    for password_row in password_csv:\n",
    "        compromised_users.append(password_row['Username'])"
   ]
  },
  {
   "cell_type": "markdown",
   "id": "92e28cbb8882ec7a",
   "metadata": {
    "collapsed": false
   },
   "source": [
    "**8.**\n",
    "Exit out of your with block for \"passwords.csv\". We have all the data we need from that file.\n",
    "\n",
    "Start a new with block, opening a file called compromised_users.txt. Open this file in write-mode, saving the file object as compromised_user_file."
   ]
  },
  {
   "cell_type": "markdown",
   "id": "f1c2f6585bfccfa7",
   "metadata": {
    "collapsed": false
   },
   "source": [
    "**9.**\n",
    "Inside the new context-managed block opened by the with statement start a new for loop.\n",
    "\n",
    "Iterate over each of your compromised_users."
   ]
  },
  {
   "cell_type": "markdown",
   "id": "62a4fb9a541e04d7",
   "metadata": {
    "collapsed": false
   },
   "source": [
    "**10.**\n",
    "Write the username of each compromised_user in compromised_users to compromised_user_file."
   ]
  },
  {
   "cell_type": "code",
   "execution_count": 13,
   "id": "11bb72de0f0df5bb",
   "metadata": {
    "ExecuteTime": {
     "end_time": "2023-10-01T22:50:41.173839Z",
     "start_time": "2023-10-01T22:50:41.092631Z"
    },
    "collapsed": false
   },
   "outputs": [],
   "source": [
    "with open('compromised_users.txt', 'w') as compromised_user_file:\n",
    "    for compromised_user in compromised_users:\n",
    "        compromised_user_file.write(compromised_user)\n",
    "    "
   ]
  },
  {
   "cell_type": "markdown",
   "id": "4f2b9d359efa957e",
   "metadata": {
    "collapsed": false
   },
   "source": [
    "**11.**\n",
    "Exit out of that with block. You’re doing great so far! We’ve got the data we need to employ as insurance against The Fender."
   ]
  },
  {
   "cell_type": "markdown",
   "id": "35852fe8",
   "metadata": {},
   "source": [
    "### Notifying the Boss\n",
    "**12.**\n",
    "Your boss needs to know that you were successful in retrieving that compromised data. We’ll need to send him an encoded message over the internet. Let’s use JSON to do that.\n",
    "\n",
    "First we’ll need to import the json module."
   ]
  },
  {
   "cell_type": "code",
   "execution_count": 14,
   "id": "9f62bf515865c20d",
   "metadata": {
    "ExecuteTime": {
     "end_time": "2023-10-01T22:50:41.173965Z",
     "start_time": "2023-10-01T22:50:41.097790Z"
    },
    "collapsed": false
   },
   "outputs": [],
   "source": [
    "import json"
   ]
  },
  {
   "cell_type": "markdown",
   "id": "6e2f9960a0cf890c",
   "metadata": {
    "collapsed": false
   },
   "source": [
    "**13.**\n",
    "Open a new JSON file in write-mode called boss_message.json. Save the file object to the variable boss_message."
   ]
  },
  {
   "cell_type": "markdown",
   "id": "a26f6440c044334e",
   "metadata": {
    "collapsed": false
   },
   "source": [
    "**14.**\n",
    "Create a Python dictionary object within your with statement that relays a boss message. Call this boss_message_dict.\n",
    "\n",
    "Give it a \"recipient\" key with a value \"The Boss\".\n",
    "\n",
    "Also give it a \"message\" key with the value \"Mission Success\"."
   ]
  },
  {
   "cell_type": "markdown",
   "id": "c3bc24ec627ee1a6",
   "metadata": {
    "collapsed": false
   },
   "source": [
    "**15.**\n",
    "Write out boss_message_dict to boss_message using json.dump()."
   ]
  },
  {
   "cell_type": "code",
   "execution_count": 15,
   "id": "e44ac79ef3a787ab",
   "metadata": {
    "ExecuteTime": {
     "end_time": "2023-10-01T22:50:41.174914Z",
     "start_time": "2023-10-01T22:50:41.105114Z"
    },
    "collapsed": false
   },
   "outputs": [],
   "source": [
    "with open('boss_message.json', 'w') as boss_message:\n",
    "    boss_message_dict = {\n",
    "        'recipient': 'The Boss',\n",
    "        'message': 'Mission Success'\n",
    "    }\n",
    "    json.dump(boss_message_dict, boss_message)"
   ]
  },
  {
   "cell_type": "markdown",
   "id": "bc0204a680678f10",
   "metadata": {
    "collapsed": false
   },
   "source": [
    "### Scrambling the Password\n",
    "**16.**\n",
    "Now that we’ve safely recovered the compromised users we’ll want to remove the \"passwords.csv\" file completely.\n",
    "\n",
    "Create a new with block and open \"new_passwords.csv\" in write-mode. Save the file object to a variable called new_passwords_obj."
   ]
  },
  {
   "cell_type": "markdown",
   "id": "d4e39dd29d739f6c",
   "metadata": {
    "collapsed": false
   },
   "source": [
    "**17.**\n",
    "Enemy of the people, Slash Null, is who we want The Fender to think was behind this attack. He has a signature, whenever he hacks someone he adds this signature to one of the files he touches. Here is the signature:\n",
    "\n",
    "```\n",
    " _  _     ___   __  ____\n",
    "/ )( \\   / __) /  \\(_  _)\n",
    ") \\/ (  ( (_ \\(  O ) )(\n",
    "\\____/   \\___/ \\__/ (__)\n",
    " _  _   __    ___  __ _  ____  ____\n",
    "/ )( \\ / _\\  / __)(  / )(  __)(    \\\n",
    ") __ (/    \\( (__  )  (  ) _)  ) D (\n",
    "\\_)(_/\\_/\\_/ \\___)(__\\_)(____)(____/\n",
    "        ____  __     __   ____  _  _\n",
    " ___   / ___)(  )   / _\\ / ___)/ )( \\\n",
    "(___)  \\___ \\/ (_/\\/    \\\\___ \\) __ (\n",
    "       (____/\\____/\\_/\\_/(____/\\_)(_/\n",
    " __ _  _  _  __    __\n",
    "(  ( \\/ )( \\(  )  (  )\n",
    "/    /) \\/ (/ (_/\\/ (_/\\\n",
    "\\_)__)\\____/\\____/\\____/\n",
    "```\n",
    "\n",
    "Save that as a multiline string to the variable slash_null_sig."
   ]
  },
  {
   "cell_type": "markdown",
   "id": "51b278135aab2ac5",
   "metadata": {
    "collapsed": false
   },
   "source": [
    "**18.**\n",
    "Write slash_null_sig to new_passwords_obj. Now we have the file to replace passwords.csv with!\n"
   ]
  },
  {
   "cell_type": "code",
   "execution_count": 16,
   "id": "312226af257087a4",
   "metadata": {
    "ExecuteTime": {
     "end_time": "2023-10-01T22:50:41.185049Z",
     "start_time": "2023-10-01T22:50:41.114426Z"
    },
    "collapsed": false
   },
   "outputs": [
    {
     "name": "stdout",
     "output_type": "stream",
     "text": [
      "\n",
      "     _  _     ___   __  ____\n",
      "    / )( \\   / __) /  \\(_  _)\n",
      "    ) \\/ (  ( (_ \\(  O ) )(\n",
      "    \\____/   \\___/ \\__/ (__)\n",
      "     _  _   __    ___  __ _  ____  ____\n",
      "    / )( \\ / _\\  / __)(  / )(  __)(    \\ \n",
      "    ) __ (/    \\( (__  )  (  ) _)  ) D (\n",
      "    \\_)(_/\\_/\\_/ \\___)(__\\_)(____)(____/\n",
      "            ____  __     __   ____  _  _\n",
      "     ___   / ___)(  )   / _\\ / ___)/ )( \\ \n",
      "    (___)  \\___ \\/ (_/\\/    .\\___ \\) __ (\n",
      "           (____/\\____/\\_/\\_/(____/\\_)(_/\n",
      "     __ _  _  _  __    __\n",
      "    (  ( \\/ )( \\(  )  (  )\n",
      "    /    /) \\/ (/ (_/\\/ (_/\\ \n",
      "    \\_)__)\\____/\\____/\\____/\n",
      "    \n"
     ]
    },
    {
     "name": "stderr",
     "output_type": "stream",
     "text": [
      "<>:2: SyntaxWarning: invalid escape sequence '\\ '\n",
      "<>:2: SyntaxWarning: invalid escape sequence '\\ '\n",
      "/var/folders/5b/m5qlq5p9431f_y7jlq2csp7w0000gn/T/ipykernel_9656/2434998029.py:2: SyntaxWarning: invalid escape sequence '\\ '\n",
      "  slash_null_sig = '''\n"
     ]
    }
   ],
   "source": [
    "with open('new_passwords.csv', 'w') as new_passwords_obj:\n",
    "    slash_null_sig = '''\n",
    "     _  _     ___   __  ____\n",
    "    / )( \\   / __) /  \\(_  _)\n",
    "    ) \\/ (  ( (_ \\(  O ) )(\n",
    "    \\____/   \\___/ \\__/ (__)\n",
    "     _  _   __    ___  __ _  ____  ____\n",
    "    / )( \\ / _\\  / __)(  / )(  __)(    \\ \n",
    "    ) __ (/    \\( (__  )  (  ) _)  ) D (\n",
    "    \\_)(_/\\_/\\_/ \\___)(__\\_)(____)(____/\n",
    "            ____  __     __   ____  _  _\n",
    "     ___   / ___)(  )   / _\\ / ___)/ )( \\ \n",
    "    (___)  \\___ \\/ (_/\\/    .\\___ \\) __ (\n",
    "           (____/\\____/\\_/\\_/(____/\\_)(_/\n",
    "     __ _  _  _  __    __\n",
    "    (  ( \\/ )( \\(  )  (  )\n",
    "    /    /) \\/ (/ (_/\\/ (_/\\ \n",
    "    \\_)__)\\____/\\____/\\____/\n",
    "    '''\n",
    "    new_passwords_obj.write(slash_null_sig)\n",
    "    new_passwords_obj.close()\n",
    "    with open('new_passwords.csv') as testing:\n",
    "        print(testing.read())"
   ]
  },
  {
   "cell_type": "markdown",
   "id": "fdbdc84b3c1f33e2",
   "metadata": {
    "collapsed": false
   },
   "source": [
    "**19.**\n",
    "What an incredible success! We’ll take care of moving the new passwords file over the old one in case you want to practice hacking The Fender in the future.\n",
    "\n",
    "Thank you for your service, programmer."
   ]
  }
 ],
 "metadata": {
  "kernelspec": {
   "display_name": "Python 3",
   "language": "python",
   "name": "python3"
  },
  "language_info": {
   "codemirror_mode": {
    "name": "ipython",
    "version": 3
   },
   "file_extension": ".py",
   "mimetype": "text/x-python",
   "name": "python",
   "nbconvert_exporter": "python",
   "pygments_lexer": "ipython3",
   "version": "3.12.2"
  }
 },
 "nbformat": 4,
 "nbformat_minor": 5
}
